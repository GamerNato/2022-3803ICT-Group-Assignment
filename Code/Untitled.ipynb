{
 "cells": [
  {
   "cell_type": "code",
   "execution_count": 1,
   "id": "cee2e83a",
   "metadata": {},
   "outputs": [],
   "source": [
    "import numpy as np\n",
    "import pandas as pd\n",
    "import nltk\n",
    "import string\n",
    "import random\n",
    "import copy\n",
    "import json\n",
    "import matplotlib.pyplot as plt\n",
    "import seaborn as sns\n",
    "sns.set(font_scale = 2)"
   ]
  },
  {
   "cell_type": "code",
   "execution_count": 19,
   "id": "fe9303d0",
   "metadata": {},
   "outputs": [],
   "source": [
    "df = pd.read_csv('preprocessed.csv', low_memory=False)\n",
    "df['Date'] = df['Date'].astype('datetime64[ns]')"
   ]
  },
  {
   "cell_type": "code",
   "execution_count": 20,
   "id": "357a5c37",
   "metadata": {},
   "outputs": [
    {
     "name": "stdout",
     "output_type": "stream",
     "text": [
      "Id 9928\n",
      "Title 8411\n",
      "Company 4536\n",
      "Date 141\n",
      "Location 66\n",
      "Area 20\n",
      "Classification 31\n",
      "SubClassification 315\n",
      "Requirement 9681\n",
      "FullDescription 9288\n",
      "LowestSalary 11\n",
      "HighestSalary 11\n",
      "JobType 5\n",
      "FullDescriptionTokens 9275\n",
      "RequirementTokens 9658\n",
      "TitleTokens 9658\n"
     ]
    }
   ],
   "source": [
    "for x in df.columns: \n",
    "    print(x,len(df[x].unique()))"
   ]
  },
  {
   "cell_type": "code",
   "execution_count": 21,
   "id": "be02af2d",
   "metadata": {},
   "outputs": [
    {
     "name": "stdout",
     "output_type": "stream",
     "text": [
      "Id 318477\n",
      "Title 168065\n",
      "Company 40629\n",
      "Date 163\n",
      "Location 66\n",
      "Area 20\n",
      "Classification 31\n",
      "SubClassification 339\n",
      "Requirement 234288\n",
      "FullDescription 250902\n",
      "LowestSalary 11\n",
      "HighestSalary 11\n",
      "JobType 5\n"
     ]
    }
   ],
   "source": [
    "df = pd.read_csv('data.csv', low_memory=False)\n",
    "df['Date'] = df['Date'].astype('datetime64[ns]')\n",
    "for x in df.columns: \n",
    "    print(x,len(df[x].unique()))"
   ]
  },
  {
   "cell_type": "code",
   "execution_count": null,
   "id": "9da603ac",
   "metadata": {},
   "outputs": [],
   "source": []
  }
 ],
 "metadata": {
  "kernelspec": {
   "display_name": "Python 3 (ipykernel)",
   "language": "python",
   "name": "python3"
  },
  "language_info": {
   "codemirror_mode": {
    "name": "ipython",
    "version": 3
   },
   "file_extension": ".py",
   "mimetype": "text/x-python",
   "name": "python",
   "nbconvert_exporter": "python",
   "pygments_lexer": "ipython3",
   "version": "3.10.4"
  }
 },
 "nbformat": 4,
 "nbformat_minor": 5
}
